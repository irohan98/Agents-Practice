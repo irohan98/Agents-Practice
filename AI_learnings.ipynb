{
  "nbformat": 4,
  "nbformat_minor": 0,
  "metadata": {
    "colab": {
      "provenance": [],
      "authorship_tag": "ABX9TyNGCHQPZVLJ85hs8FUJugY4",
      "include_colab_link": true
    },
    "kernelspec": {
      "name": "python3",
      "display_name": "Python 3"
    },
    "language_info": {
      "name": "python"
    }
  },
  "cells": [
    {
      "cell_type": "markdown",
      "metadata": {
        "id": "view-in-github",
        "colab_type": "text"
      },
      "source": [
        "<a href=\"https://colab.research.google.com/github/irohan98/Agents-Practice/blob/main/AI_learnings.ipynb\" target=\"_parent\"><img src=\"https://colab.research.google.com/assets/colab-badge.svg\" alt=\"Open In Colab\"/></a>"
      ]
    },
    {
      "cell_type": "markdown",
      "source": [
        "## Quickstart Guide\n",
        "\n",
        "https://google.github.io/adk-docs/get-started/quickstart/#run-your-agent\n",
        "\n",
        "### Workflow\n",
        "\n",
        "\n",
        "The agent takes the user’s request, figures out how best to respond (possibly using tools, memory, or even other agents), and calls an LLM (with secure credentials) to generate responses. So the LLM serves the agent — not the other way around.\n",
        "\n",
        "```\n",
        "[ USER ]\n",
        "   │\n",
        "   ▼\n",
        "┌─────────────────────┐\n",
        "│     Agent Layer     │   <-- Your agent (logic, memory, tools)\n",
        "└─────────────────────┘\n",
        "   │\n",
        "┌──┴───────────┬────────────┐\n",
        "│              │            │\n",
        "▼              ▼            ▼\n",
        "[ Tools ]   [ Memory ]   [ Other Agents ]\n",
        "   │\n",
        "   ▼\n",
        "┌────────────────────────────┐\n",
        "│   LLM API Request Layer    │   <-- Authenticated API call\n",
        "└────────────────────────────┘\n",
        "   │\n",
        "   ▼\n",
        "┌────────────────────────────┐\n",
        "│     External LLM Service   │   <-- OpenAI GPT, Anthropic Claude, etc.\n",
        "└────────────────────────────┘\n",
        "   │\n",
        "   ▼\n",
        "[ Response Output ]\n",
        "   │\n",
        "   ▼\n",
        "[ USER ]\n",
        "```\n",
        "\n",
        "#### Example Use Case Flow\n",
        "\n",
        "1. You ask: \"Summarize this research paper.\"\n",
        "\n",
        "2. Agent:\n",
        "  \n",
        "  a. Stores your history in memory.\n",
        "  \n",
        "  b. Parses your input.\n",
        "\n",
        "  c. Might retrieve context via tools (e.g., web search).\n",
        "\n",
        "3. Sends a secure API call to the LLM to generate the summary.\n",
        "\n",
        "4. LLM returns a response.\n",
        "\n",
        "5. Agent wraps it up (maybe formats or verifies it) and sends it to you.\n",
        "\n",
        "\n"
      ],
      "metadata": {
        "id": "65NzHwF_jXAo"
      }
    },
    {
      "cell_type": "code",
      "source": [
        "# Install packages here or use terminal\n",
        "\n",
        "!pip install google-adk -q\n",
        "!pip install timezonefinder\n",
        "!pip install pyngrok\n",
        "!pip install python-dotenv"
      ],
      "metadata": {
        "colab": {
          "base_uri": "https://localhost:8080/"
        },
        "id": "H4bAy3VgPlKK",
        "outputId": "063f93cf-184e-479a-e7a8-fbfda6c89963"
      },
      "execution_count": 1,
      "outputs": [
        {
          "output_type": "stream",
          "name": "stdout",
          "text": [
            "\u001b[2K     \u001b[90m━━━━━━━━━━━━━━━━━━━━━━━━━━━━━━━━━━━━━━━━\u001b[0m \u001b[32m40.1/40.1 kB\u001b[0m \u001b[31m2.9 MB/s\u001b[0m eta \u001b[36m0:00:00\u001b[0m\n",
            "\u001b[2K   \u001b[90m━━━━━━━━━━━━━━━━━━━━━━━━━━━━━━━━━━━━━━━━\u001b[0m \u001b[32m1.3/1.3 MB\u001b[0m \u001b[31m55.4 MB/s\u001b[0m eta \u001b[36m0:00:00\u001b[0m\n",
            "\u001b[2K   \u001b[90m━━━━━━━━━━━━━━━━━━━━━━━━━━━━━━━━━━━━━━━━\u001b[0m \u001b[32m240.0/240.0 kB\u001b[0m \u001b[31m16.4 MB/s\u001b[0m eta \u001b[36m0:00:00\u001b[0m\n",
            "\u001b[2K   \u001b[90m━━━━━━━━━━━━━━━━━━━━━━━━━━━━━━━━━━━━━━━━\u001b[0m \u001b[32m218.1/218.1 kB\u001b[0m \u001b[31m16.1 MB/s\u001b[0m eta \u001b[36m0:00:00\u001b[0m\n",
            "\u001b[2K   \u001b[90m━━━━━━━━━━━━━━━━━━━━━━━━━━━━━━━━━━━━━━━━\u001b[0m \u001b[32m335.7/335.7 kB\u001b[0m \u001b[31m22.3 MB/s\u001b[0m eta \u001b[36m0:00:00\u001b[0m\n",
            "\u001b[2K   \u001b[90m━━━━━━━━━━━━━━━━━━━━━━━━━━━━━━━━━━━━━━━━\u001b[0m \u001b[32m150.9/150.9 kB\u001b[0m \u001b[31m12.3 MB/s\u001b[0m eta \u001b[36m0:00:00\u001b[0m\n",
            "\u001b[2K   \u001b[90m━━━━━━━━━━━━━━━━━━━━━━━━━━━━━━━━━━━━━━━━\u001b[0m \u001b[32m65.8/65.8 kB\u001b[0m \u001b[31m4.6 MB/s\u001b[0m eta \u001b[36m0:00:00\u001b[0m\n",
            "\u001b[2K   \u001b[90m━━━━━━━━━━━━━━━━━━━━━━━━━━━━━━━━━━━━━━━━\u001b[0m \u001b[32m118.5/118.5 kB\u001b[0m \u001b[31m9.0 MB/s\u001b[0m eta \u001b[36m0:00:00\u001b[0m\n",
            "\u001b[2K   \u001b[90m━━━━━━━━━━━━━━━━━━━━━━━━━━━━━━━━━━━━━━━━\u001b[0m \u001b[32m196.2/196.2 kB\u001b[0m \u001b[31m13.2 MB/s\u001b[0m eta \u001b[36m0:00:00\u001b[0m\n",
            "\u001b[2K   \u001b[90m━━━━━━━━━━━━━━━━━━━━━━━━━━━━━━━━━━━━━━━━\u001b[0m \u001b[32m64.8/64.8 kB\u001b[0m \u001b[31m4.8 MB/s\u001b[0m eta \u001b[36m0:00:00\u001b[0m\n",
            "\u001b[2K   \u001b[90m━━━━━━━━━━━━━━━━━━━━━━━━━━━━━━━━━━━━━━━━\u001b[0m \u001b[32m229.5/229.5 kB\u001b[0m \u001b[31m17.5 MB/s\u001b[0m eta \u001b[36m0:00:00\u001b[0m\n",
            "\u001b[2K   \u001b[90m━━━━━━━━━━━━━━━━━━━━━━━━━━━━━━━━━━━━━━━━\u001b[0m \u001b[32m103.8/103.8 kB\u001b[0m \u001b[31m7.4 MB/s\u001b[0m eta \u001b[36m0:00:00\u001b[0m\n",
            "\u001b[2K   \u001b[90m━━━━━━━━━━━━━━━━━━━━━━━━━━━━━━━━━━━━━━━━\u001b[0m \u001b[32m45.2/45.2 kB\u001b[0m \u001b[31m3.3 MB/s\u001b[0m eta \u001b[36m0:00:00\u001b[0m\n",
            "\u001b[?25h\u001b[31mERROR: pip's dependency resolver does not currently take into account all the packages that are installed. This behaviour is the source of the following dependency conflicts.\n",
            "google-colab 1.0.0 requires requests==2.32.3, but you have requests 2.32.4 which is incompatible.\u001b[0m\u001b[31m\n",
            "\u001b[0m"
          ]
        }
      ]
    },
    {
      "cell_type": "code",
      "source": [
        "!mkdir multi_tool_agent"
      ],
      "metadata": {
        "id": "P4OP80Ugfrv6"
      },
      "execution_count": 2,
      "outputs": []
    },
    {
      "cell_type": "code",
      "source": [
        "!echo \"from . import agent\" > multi_tool_agent/__init__.py"
      ],
      "metadata": {
        "id": "jphUVPG3frtC"
      },
      "execution_count": 3,
      "outputs": []
    },
    {
      "cell_type": "code",
      "source": [
        "!touch multi_tool_agent/agent.py"
      ],
      "metadata": {
        "id": "ath59BjqfrqQ"
      },
      "execution_count": 4,
      "outputs": []
    },
    {
      "cell_type": "markdown",
      "source": [
        "Paste this code into agent.py (This code is from the tutorial link attached above)\n",
        "\n",
        "```\n",
        "import datetime\n",
        "from zoneinfo import ZoneInfo\n",
        "from google.adk.agents import Agent\n",
        "\n",
        "def get_weather(city: str) -> dict:\n",
        "    \"\"\"Retrieves the current weather report for a specified city.\n",
        "\n",
        "    Args:\n",
        "        city (str): The name of the city for which to retrieve the weather report.\n",
        "\n",
        "    Returns:\n",
        "        dict: status and result or error msg.\n",
        "    \"\"\"\n",
        "    if city.lower() == \"new york\":\n",
        "        return {\n",
        "            \"status\": \"success\",\n",
        "            \"report\": (\n",
        "                \"The weather in New York is sunny with a temperature of 25 degrees\"\n",
        "                \" Celsius (77 degrees Fahrenheit).\"\n",
        "            ),\n",
        "        }\n",
        "    else:\n",
        "        return {\n",
        "            \"status\": \"error\",\n",
        "            \"error_message\": f\"Weather information for '{city}' is not available.\",\n",
        "        }\n",
        "\n",
        "\n",
        "def get_current_time(city: str) -> dict:\n",
        "    \"\"\"Returns the current time in a specified city.\n",
        "\n",
        "    Args:\n",
        "        city (str): The name of the city for which to retrieve the current time.\n",
        "\n",
        "    Returns:\n",
        "        dict: status and result or error msg.\n",
        "    \"\"\"\n",
        "\n",
        "    if city.lower() == \"new york\":\n",
        "        tz_identifier = \"America/New_York\"\n",
        "    else:\n",
        "        return {\n",
        "            \"status\": \"error\",\n",
        "            \"error_message\": (\n",
        "                f\"Sorry, I don't have timezone information for {city}.\"\n",
        "            ),\n",
        "        }\n",
        "\n",
        "    tz = ZoneInfo(tz_identifier)\n",
        "    now = datetime.datetime.now(tz)\n",
        "    report = (\n",
        "        f'The current time in {city} is {now.strftime(\"%Y-%m-%d %H:%M:%S %Z%z\")}'\n",
        "    )\n",
        "    return {\"status\": \"success\", \"report\": report}\n",
        "\n",
        "\n",
        "root_agent = Agent(\n",
        "    name=\"weather_time_agent\",\n",
        "    model=\"gemini-2.0-flash\",\n",
        "    description=(\n",
        "        \"Agent to answer questions about the time and weather in a city.\"\n",
        "    ),\n",
        "    instruction=(\n",
        "        \"You are a helpful agent who can answer user questions about the time and weather in a city.\"\n",
        "    ),\n",
        "    tools=[get_weather, get_current_time],\n",
        ")\n",
        "```"
      ],
      "metadata": {
        "id": "awEtjSYiYrt0"
      }
    },
    {
      "cell_type": "code",
      "source": [
        "# !touch multi_tool_agent/.env\n",
        "\n",
        "import getpass\n",
        "\n",
        "KEY = getpass.getpass(\"Enter your Google API key: \")\n",
        "\n",
        "with open(\"multi_tool_agent/.env\", \"w\") as f:\n",
        "    f.write(\"GOOGLE_GENAI_USE_VERTEXAI=FALSE\\n\")\n",
        "    f.write(f\"GOOGLE_API_KEY='{KEY}'\\n\")"
      ],
      "metadata": {
        "colab": {
          "base_uri": "https://localhost:8080/"
        },
        "id": "yE2dw9Mcfri4",
        "outputId": "18fe487a-a9e1-4008-c0b4-9beb7a84510f"
      },
      "execution_count": 11,
      "outputs": [
        {
          "name": "stdout",
          "output_type": "stream",
          "text": [
            "Enter your Google API key: ··········\n"
          ]
        }
      ]
    },
    {
      "cell_type": "code",
      "source": [
        "# Run in Terminal\n",
        "!adk run multi_tool_agent"
      ],
      "metadata": {
        "colab": {
          "base_uri": "https://localhost:8080/"
        },
        "id": "eQCviEBBqBXx",
        "outputId": "2027d679-fa4c-4809-f5a3-2e9a2eef44f5"
      },
      "execution_count": 12,
      "outputs": [
        {
          "output_type": "stream",
          "name": "stdout",
          "text": [
            "INFO:google_adk.google.adk.models.registry:Updating LLM class for gemini-.* from <class 'google.adk.models.google_llm.Gemini'> to <class 'google.adk.models.google_llm.Gemini'>\n",
            "INFO:google_adk.google.adk.models.registry:Updating LLM class for projects\\/.+\\/locations\\/.+\\/endpoints\\/.+ from <class 'google.adk.models.google_llm.Gemini'> to <class 'google.adk.models.google_llm.Gemini'>\n",
            "INFO:google_adk.google.adk.models.registry:Updating LLM class for projects\\/.+\\/locations\\/.+\\/publishers\\/google\\/models\\/gemini.+ from <class 'google.adk.models.google_llm.Gemini'> to <class 'google.adk.models.google_llm.Gemini'>\n",
            "INFO:google_adk.google.adk.models.registry:Updating LLM class for gemini-.* from <class 'google.adk.models.google_llm.Gemini'> to <class 'google.adk.models.google_llm.Gemini'>\n",
            "INFO:google_adk.google.adk.models.registry:Updating LLM class for projects\\/.+\\/locations\\/.+\\/endpoints\\/.+ from <class 'google.adk.models.google_llm.Gemini'> to <class 'google.adk.models.google_llm.Gemini'>\n",
            "INFO:google_adk.google.adk.models.registry:Updating LLM class for projects\\/.+\\/locations\\/.+\\/publishers\\/google\\/models\\/gemini.+ from <class 'google.adk.models.google_llm.Gemini'> to <class 'google.adk.models.google_llm.Gemini'>\n",
            "INFO:numexpr.utils:NumExpr defaulting to 2 threads.\n",
            "Log setup complete: /tmp/agents_log/agent.20250626_223305.log\n",
            "To access latest log: tail -F /tmp/agents_log/agent.latest.log\n",
            "Running agent weather_time_agent, type exit to exit.\n",
            "[user]: Hello\n",
            "[weather_time_agent]: Hello! How can I help you today? I can provide you with the current weather or time in a specific city.\n",
            "\n",
            "[user]: What is the time in new york\n",
            "[weather_time_agent]: The current time in New York is 2025-06-26 18:33:18 EDT-0400.\n",
            "\n",
            "[user]: exit\n"
          ]
        }
      ]
    },
    {
      "cell_type": "code",
      "source": [
        "# Run using Web App via ngrok\n",
        "\n",
        "import getpass\n",
        "token = getpass.getpass(\"Enter your ngrok token: \")\n",
        "ngrok.set_auth_token(token)"
      ],
      "metadata": {
        "colab": {
          "base_uri": "https://localhost:8080/"
        },
        "id": "3H9C1KxKr7xF",
        "outputId": "443f0c5f-cb29-4b3f-ff3d-8e6aa73847cf"
      },
      "execution_count": 30,
      "outputs": [
        {
          "name": "stdout",
          "output_type": "stream",
          "text": [
            "Enter your ngrok token: ··········\n"
          ]
        }
      ]
    },
    {
      "cell_type": "code",
      "source": [
        "import subprocess\n",
        "\n",
        "# Run adk web in the background\n",
        "server = subprocess.Popen([\"adk\", \"web\", \"--no-reload\"])\n",
        "\n",
        "from pyngrok import ngrok\n",
        "\n",
        "public_url = ngrok.connect(8000)\n",
        "print(\"Public URL:\", public_url)"
      ],
      "metadata": {
        "colab": {
          "base_uri": "https://localhost:8080/"
        },
        "id": "400GzGt-jVhB",
        "outputId": "22acd3ea-6842-4439-d82e-eeb737562cf7"
      },
      "execution_count": 31,
      "outputs": [
        {
          "output_type": "stream",
          "name": "stdout",
          "text": [
            "Public URL: NgrokTunnel: \"https://5805-34-147-40-12.ngrok-free.app\" -> \"http://localhost:8000\"\n"
          ]
        }
      ]
    },
    {
      "cell_type": "code",
      "source": [
        "server.terminate()\n",
        "ngrok.kill()"
      ],
      "metadata": {
        "id": "z94iEhDshlK6"
      },
      "execution_count": 32,
      "outputs": []
    },
    {
      "cell_type": "markdown",
      "source": [
        "## ----------------------------"
      ],
      "metadata": {
        "id": "Ud4xoj8vz3cd"
      }
    },
    {
      "cell_type": "markdown",
      "source": [
        "## Quickstart (Modified for any city/state)\n",
        "\n",
        "Steps (by RI):\n",
        "1. Create a free account on https://home.openweathermap.org/\n",
        "\n",
        "2. Create an API key on https://home.openweathermap.org/api_keys\n",
        "\n",
        "3. Include it in the code below for the API call to be successful on your free account\n",
        "\n",
        "4. Test the code locally and then replace the weather and time functions in the agent.py file\n",
        "\n",
        "5. Run the agent and interact with it\n",
        "\n"
      ],
      "metadata": {
        "id": "yeqm2oblzsSg"
      }
    },
    {
      "cell_type": "code",
      "source": [
        "# Testing the base logic which will be inside agent.py\n",
        "\n",
        "import datetime\n",
        "import requests\n",
        "from zoneinfo import ZoneInfo\n",
        "from timezonefinder import TimezoneFinder\n",
        "import getpass\n",
        "\n",
        "# Add your OpenWeatherMap API Key here\n",
        "\n",
        "KEY = getpass.getpass(\"Enter your OpenWeatherMap API Key: \")\n",
        "\n",
        "API_KEY = KEY\n",
        "\n",
        "def get_coordinates(city: str) -> tuple:\n",
        "    \"\"\"Fetch latitude and longitude for a given city.\"\"\"\n",
        "    response = requests.get(\n",
        "        f\"http://api.openweathermap.org/geo/1.0/direct?q={city}&limit=1&appid={API_KEY}\"\n",
        "    )\n",
        "    data = response.json()\n",
        "    if not data:\n",
        "        return None  # Return None if no location data is found\n",
        "    print(f\"Data Found for {city}:\", data[0][\"lat\"], data[0][\"lon\"])\n",
        "    return data[0][\"lat\"], data[0][\"lon\"]\n",
        "\n",
        "def get_weather(city: str) -> dict:\n",
        "    coords = get_coordinates(city)\n",
        "    if not coords:\n",
        "        return {\n",
        "            \"status\": \"error\",\n",
        "            \"error_message\": f\"Could not find location for '{city}'.\"\n",
        "        }\n",
        "\n",
        "    lat, lon = coords\n",
        "    response = requests.get(\n",
        "        f\"https://api.openweathermap.org/data/2.5/weather?lat={lat}&lon={lon}&appid={API_KEY}&units=metric\"\n",
        "    )\n",
        "    data = response.json()\n",
        "\n",
        "    if response.status_code != 200:\n",
        "        return {\n",
        "            \"status\": \"error\",\n",
        "            \"error_message\": data.get(\"message\", \"Unknown error\"),\n",
        "        }\n",
        "\n",
        "    weather_desc = data[\"weather\"][0][\"description\"]\n",
        "    temp_c = data[\"main\"][\"temp\"]\n",
        "    temp_f = (temp_c * 9/5) + 32\n",
        "    return {\n",
        "        \"status\": \"success\",\n",
        "        \"report\": (\n",
        "            f\"The weather in {city} is {weather_desc} with a temperature of \"\n",
        "            f\"{temp_c:.1f}°C ({temp_f:.1f}°F).\"\n",
        "        ),\n",
        "    }\n",
        "\n",
        "def get_current_time(city: str) -> dict:\n",
        "    coords = get_coordinates(city)\n",
        "    if not coords:\n",
        "        return {\n",
        "            \"status\": \"error\",\n",
        "            \"error_message\": f\"Could not find location for '{city}'.\"\n",
        "        }\n",
        "\n",
        "    lat, lon = coords\n",
        "    tf = TimezoneFinder()\n",
        "    tz_name = tf.timezone_at(lat=lat, lng=lon)\n",
        "    if not tz_name:\n",
        "        return {\n",
        "            \"status\": \"error\",\n",
        "            \"error_message\": f\"Could not determine timezone for '{city}'.\"\n",
        "        }\n",
        "\n",
        "    tz = ZoneInfo(tz_name)\n",
        "    now = datetime.datetime.now(tz)\n",
        "    report = f\"The current time in {city} is {now.strftime('%Y-%m-%d %H:%M:%S %Z%z')}\"\n",
        "    return {\"status\": \"success\", \"report\": report}"
      ],
      "metadata": {
        "id": "xjLAyX1a7ap-"
      },
      "execution_count": 56,
      "outputs": []
    },
    {
      "cell_type": "code",
      "source": [
        "print(get_weather(\"Hyderabad\"))"
      ],
      "metadata": {
        "colab": {
          "base_uri": "https://localhost:8080/"
        },
        "id": "NljWsqb88D_7",
        "outputId": "f817b432-c7fd-4bac-c7a8-259fe1acd7f7"
      },
      "execution_count": 57,
      "outputs": [
        {
          "output_type": "stream",
          "name": "stdout",
          "text": [
            "Data Found for Hyderabad: 17.360589 78.4740613\n",
            "{'status': 'error', 'error_message': 'Invalid API key. Please see https://openweathermap.org/faq#error401 for more info.'}\n"
          ]
        }
      ]
    },
    {
      "cell_type": "code",
      "source": [
        "import getpass\n",
        "\n",
        "OPENWEATHERMAP_KEY = getpass.getpass(\"Enter your OPENWEATHERMAP API Key: \")\n",
        "\n",
        "with open(\"multi_tool_agent/.env\", \"w\") as f:\n",
        "    f.write(f\"OPENWEATHERMAP_API_KEY='{OPENWEATHERMAP_KEY}'\\n\")"
      ],
      "metadata": {
        "id": "vT5jlxO7aCSH"
      },
      "execution_count": null,
      "outputs": []
    },
    {
      "cell_type": "code",
      "source": [
        "# # [WORKING CODE] IN AGENT.PY FILE\n",
        "\n",
        "import os\n",
        "import datetime\n",
        "import requests\n",
        "from zoneinfo import ZoneInfo\n",
        "from timezonefinder import TimezoneFinder\n",
        "from dotenv import load_dotenv\n",
        "\n",
        "# Load environment variables from .env\n",
        "load_dotenv()\n",
        "\n",
        "# Get the API key from the environment\n",
        "API_KEY = os.getenv(\"OPENWEATHERMAP_API_KEY\")\n",
        "\n",
        "if not API_KEY:\n",
        "    raise ValueError(\"OPENWEATHERMAP_API_KEY not set in environment or .env file.\")\n",
        "\n",
        "def get_coordinates(city: str) -> tuple:\n",
        "    response = requests.get(\n",
        "        f\"http://api.openweathermap.org/geo/1.0/direct?q={city}&limit=1&appid={API_KEY}\"\n",
        "    )\n",
        "    data = response.json()\n",
        "    if not data:\n",
        "        return None\n",
        "    print(f\"Data Found for {city}:\", data[0][\"lat\"], data[0][\"lon\"])\n",
        "    return data[0][\"lat\"], data[0][\"lon\"]\n",
        "\n",
        "def get_weather(city: str) -> dict:\n",
        "    coords = get_coordinates(city)\n",
        "    if not coords:\n",
        "        return {\"status\": \"error\", \"error_message\": f\"Could not find location for '{city}'.\"}\n",
        "\n",
        "    lat, lon = coords\n",
        "    response = requests.get(\n",
        "        f\"https://api.openweathermap.org/data/2.5/weather?lat={lat}&lon={lon}&appid={API_KEY}&units=metric\"\n",
        "    )\n",
        "    data = response.json()\n",
        "\n",
        "    if response.status_code != 200:\n",
        "        return {\"status\": \"error\", \"error_message\": data.get(\"message\", \"Unknown error\")}\n",
        "\n",
        "    weather_desc = data[\"weather\"][0][\"description\"]\n",
        "    temp_c = data[\"main\"][\"temp\"]\n",
        "    temp_f = (temp_c * 9 / 5) + 32\n",
        "    return {\n",
        "        \"status\": \"success\",\n",
        "        \"report\": (\n",
        "            f\"The weather in {city} is {weather_desc} with a temperature of \"\n",
        "            f\"{temp_c:.1f}°C ({temp_f:.1f}°F).\"\n",
        "        ),\n",
        "    }\n",
        "\n",
        "def get_current_time(city: str) -> dict:\n",
        "    coords = get_coordinates(city)\n",
        "    if not coords:\n",
        "        return {\"status\": \"error\", \"error_message\": f\"Could not find location for '{city}'.\"}\n",
        "\n",
        "    lat, lon = coords\n",
        "    tf = TimezoneFinder()\n",
        "    tz_name = tf.timezone_at(lat=lat, lng=lon)\n",
        "    if not tz_name:\n",
        "        return {\"status\": \"error\", \"error_message\": f\"Could not determine timezone for '{city}'.\"}\n",
        "\n",
        "    tz = ZoneInfo(tz_name)\n",
        "    now = datetime.datetime.now(tz)\n",
        "    report = f\"The current time in {city} is {now.strftime('%Y-%m-%d %H:%M:%S %Z%z')}\"\n",
        "    return {\"status\": \"success\", \"report\": report}\n",
        "\n",
        "from google.adk.agents import Agent\n",
        "\n",
        "root_agent = Agent(\n",
        "    name=\"weather_time_agent\",\n",
        "    model=\"gemini-2.0-flash\",\n",
        "    description=\"Agent to answer questions about the time and weather in a city.\",\n",
        "    instruction=\"You are a helpful agent who can answer user questions about the time and weather in a city.\",\n",
        "    tools=[get_weather, get_current_time],\n",
        ")\n"
      ],
      "metadata": {
        "id": "-RDLuaSX7Kyq"
      },
      "execution_count": null,
      "outputs": []
    },
    {
      "cell_type": "code",
      "source": [
        "# Run in Terminal\n",
        "!adk run multi_tool_agent"
      ],
      "metadata": {
        "colab": {
          "base_uri": "https://localhost:8080/"
        },
        "id": "ffeyOGdI7EPX",
        "outputId": "31f2b77c-a1ae-4151-c15f-70e10471cb10"
      },
      "execution_count": 58,
      "outputs": [
        {
          "output_type": "stream",
          "name": "stdout",
          "text": [
            "INFO:google_adk.google.adk.models.registry:Updating LLM class for gemini-.* from <class 'google.adk.models.google_llm.Gemini'> to <class 'google.adk.models.google_llm.Gemini'>\n",
            "INFO:google_adk.google.adk.models.registry:Updating LLM class for projects\\/.+\\/locations\\/.+\\/endpoints\\/.+ from <class 'google.adk.models.google_llm.Gemini'> to <class 'google.adk.models.google_llm.Gemini'>\n",
            "INFO:google_adk.google.adk.models.registry:Updating LLM class for projects\\/.+\\/locations\\/.+\\/publishers\\/google\\/models\\/gemini.+ from <class 'google.adk.models.google_llm.Gemini'> to <class 'google.adk.models.google_llm.Gemini'>\n",
            "INFO:google_adk.google.adk.models.registry:Updating LLM class for gemini-.* from <class 'google.adk.models.google_llm.Gemini'> to <class 'google.adk.models.google_llm.Gemini'>\n",
            "INFO:google_adk.google.adk.models.registry:Updating LLM class for projects\\/.+\\/locations\\/.+\\/endpoints\\/.+ from <class 'google.adk.models.google_llm.Gemini'> to <class 'google.adk.models.google_llm.Gemini'>\n",
            "INFO:google_adk.google.adk.models.registry:Updating LLM class for projects\\/.+\\/locations\\/.+\\/publishers\\/google\\/models\\/gemini.+ from <class 'google.adk.models.google_llm.Gemini'> to <class 'google.adk.models.google_llm.Gemini'>\n",
            "INFO:numexpr.utils:NumExpr defaulting to 2 threads.\n",
            "Log setup complete: /tmp/agents_log/agent.20250626_203959.log\n",
            "To access latest log: tail -F /tmp/agents_log/agent.latest.log\n",
            "Running agent weather_time_agent, type exit to exit.\n",
            "[user]: What is the weather in San Francisco\n",
            "[weather_time_agent]: OK. The weather in San Francisco is few clouds with a temperature of 18.0°C (64.5°F).\n",
            "\n",
            "[user]: What is the weather in Dallas\n",
            "[weather_time_agent]: OK. The weather in Dallas is scattered clouds with a temperature of 33.5°C (92.3°F).\n",
            "\n",
            "[user]: What is the weather in Paris\n",
            "[weather_time_agent]: OK. The weather in Paris is clear sky with a temperature of 24.3°C (75.8°F).\n",
            "[user]: What is the time in Paris\n",
            "[weather_time_agent]: OK. The current time in Paris is 2025-06-26 22:41:10 CEST+0200.\n",
            "[user]: What is the time in Hyderabad, India?\n",
            "[weather_time_agent]: OK. The current time in Hyderabad is 2025-06-27 02:11:30 IST+0530.\n",
            "[user]: exit\n"
          ]
        }
      ]
    },
    {
      "cell_type": "code",
      "source": [
        "import getpass\n",
        "token = getpass.getpass(\"Enter your ngrok token: \")\n",
        "ngrok.set_auth_token(token)"
      ],
      "metadata": {
        "colab": {
          "base_uri": "https://localhost:8080/"
        },
        "id": "atIlphsv8E0D",
        "outputId": "d08e8ec8-d66a-4aa9-9bab-9586ba1f8523"
      },
      "execution_count": 59,
      "outputs": [
        {
          "name": "stdout",
          "output_type": "stream",
          "text": [
            "Enter your ngrok token: ··········\n"
          ]
        }
      ]
    },
    {
      "cell_type": "code",
      "source": [
        "import subprocess\n",
        "\n",
        "# Run adk web in the background\n",
        "server = subprocess.Popen([\"adk\", \"web\", \"--no-reload\"])\n",
        "\n",
        "from pyngrok import ngrok\n",
        "\n",
        "public_url = ngrok.connect(8000)\n",
        "print(\"Public URL:\", public_url)\n"
      ],
      "metadata": {
        "colab": {
          "base_uri": "https://localhost:8080/"
        },
        "id": "j_dJbPWTAKwn",
        "outputId": "de2f7455-6b5a-4562-bd80-03729c65a115"
      },
      "execution_count": 60,
      "outputs": [
        {
          "output_type": "stream",
          "name": "stdout",
          "text": [
            "Public URL: NgrokTunnel: \"https://bdd1-34-147-40-12.ngrok-free.app\" -> \"http://localhost:8000\"\n"
          ]
        }
      ]
    },
    {
      "cell_type": "code",
      "source": [
        "server.terminate()\n",
        "ngrok.kill()"
      ],
      "metadata": {
        "id": "LErnGDAbAKtf"
      },
      "execution_count": 61,
      "outputs": []
    },
    {
      "cell_type": "code",
      "source": [],
      "metadata": {
        "id": "k_HN96AUAv7w"
      },
      "execution_count": null,
      "outputs": []
    }
  ]
}